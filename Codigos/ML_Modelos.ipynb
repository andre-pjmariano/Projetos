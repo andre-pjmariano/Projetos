{
 "cells": [
  {
   "cell_type": "markdown",
   "metadata": {
    "id": "b-PlUKtVWoIX"
   },
   "source": [
    "### Contexto\n",
    "Base de Dados de Churn \n",
    "<br>\n",
    "[IBM Sample Data Sets]"
   ]
  },
  {
   "cell_type": "markdown",
   "metadata": {
    "id": "VKA1c8nkWoIa"
   },
   "source": [
    "### Conteúdo "
   ]
  },
  {
   "cell_type": "markdown",
   "metadata": {
    "id": "VWyjN-8nWoIc"
   },
   "source": [
    "Cada linha representa um cliente.\n",
    "<br>\n",
    "Cada coluna contém os atributos do cliente descritos na coluna Metadados.\n",
    "\n",
    "O conjunto de dados inclui informações sobre:\n",
    "<br>\n",
    "Clientes que saíram no último mês - a coluna é chamada de rotatividade\n",
    "<br>\n",
    "Serviços que cada cliente assinou - telefone, várias linhas, internet, segurança online, backup online, proteção de dispositivo, suporte técnico e streaming de TV e filmes\n",
    "<br>\n",
    "Informações da conta do cliente - há quanto tempo ele é cliente, contrato, forma de pagamento, faturamento sem papel, cobranças mensais e cobranças totais\n",
    "<br>\n",
    "Informações demográficas sobre clientes - sexo, faixa etária e se eles têm parceiros e dependentes"
   ]
  },
  {
   "cell_type": "markdown",
   "metadata": {
    "id": "zSEaHUZKWoIf"
   },
   "source": [
    "### Análise Exploratória"
   ]
  },
  {
   "cell_type": "markdown",
   "metadata": {
    "id": "Kyhx_OXqel11"
   },
   "source": [
    "A seção abaixo visa aplicar técnicas de Estatística Descritiva para entendimento dos dados"
   ]
  },
  {
   "cell_type": "code",
   "execution_count": 1,
   "metadata": {
    "executionInfo": {
     "elapsed": 2389,
     "status": "ok",
     "timestamp": 1601597902842,
     "user": {
      "displayName": "Andre Silva",
      "photoUrl": "",
      "userId": "16108664930684528224"
     },
     "user_tz": 180
    },
    "id": "MLw5jkjiWoIi"
   },
   "outputs": [],
   "source": [
    "#Importação das bibliotecas\n",
    "import pandas as pd\n",
    "import numpy as np\n",
    "import seaborn as sns\n",
    "import matplotlib.pyplot as plt\n",
    "import matplotlib.ticker as mtick\n",
    "import os\n",
    "sns.set(style = 'white')\n",
    "\n",
    "%matplotlib inline"
   ]
  },
  {
   "cell_type": "code",
   "execution_count": 2,
   "metadata": {
    "colab": {
     "base_uri": "https://localhost:8080/",
     "height": 34
    },
    "executionInfo": {
     "elapsed": 2373,
     "status": "ok",
     "timestamp": 1601597902844,
     "user": {
      "displayName": "Andre Silva",
      "photoUrl": "",
      "userId": "16108664930684528224"
     },
     "user_tz": 180
    },
    "id": "PZcKPe5TcRh4",
    "outputId": "67a2d4a7-41b4-4b95-ffa1-274908614f62"
   },
   "outputs": [
    {
     "name": "stdout",
     "output_type": "stream",
     "text": [
      "Drive already mounted at /content/drive; to attempt to forcibly remount, call drive.mount(\"/content/drive\", force_remount=True).\n"
     ]
    }
   ],
   "source": [
    "#Importação da biblioteca para integração com o Google Drive\n",
    "from google.colab import drive\n",
    "drive.mount('/content/drive')"
   ]
  },
  {
   "cell_type": "code",
   "execution_count": 3,
   "metadata": {
    "executionInfo": {
     "elapsed": 2360,
     "status": "ok",
     "timestamp": 1601597902845,
     "user": {
      "displayName": "Andre Silva",
      "photoUrl": "",
      "userId": "16108664930684528224"
     },
     "user_tz": 180
    },
    "id": "Mo-A4BC7WoIx"
   },
   "outputs": [],
   "source": [
    "#Criação do DataFrame e carregamento dos dados\n",
    "df = pd.read_csv('/content/drive/My Drive/WA_Fn-UseC_-Telco-Customer-Churn.csv')"
   ]
  },
  {
   "cell_type": "code",
   "execution_count": 4,
   "metadata": {
    "colab": {
     "base_uri": "https://localhost:8080/",
     "height": 309
    },
    "executionInfo": {
     "elapsed": 4730,
     "status": "ok",
     "timestamp": 1601597905225,
     "user": {
      "displayName": "Andre Silva",
      "photoUrl": "",
      "userId": "16108664930684528224"
     },
     "user_tz": 180
    },
    "id": "MlgY6RTQWoI9",
    "outputId": "3301aeff-8904-4ccd-e190-21efd5ecc203"
   },
   "outputs": [
    {
     "data": {
      "text/html": [
       "<div>\n",
       "<style scoped>\n",
       "    .dataframe tbody tr th:only-of-type {\n",
       "        vertical-align: middle;\n",
       "    }\n",
       "\n",
       "    .dataframe tbody tr th {\n",
       "        vertical-align: top;\n",
       "    }\n",
       "\n",
       "    .dataframe thead th {\n",
       "        text-align: right;\n",
       "    }\n",
       "</style>\n",
       "<table border=\"1\" class=\"dataframe\">\n",
       "  <thead>\n",
       "    <tr style=\"text-align: right;\">\n",
       "      <th></th>\n",
       "      <th>customerID</th>\n",
       "      <th>gender</th>\n",
       "      <th>SeniorCitizen</th>\n",
       "      <th>Partner</th>\n",
       "      <th>Dependents</th>\n",
       "      <th>tenure</th>\n",
       "      <th>PhoneService</th>\n",
       "      <th>MultipleLines</th>\n",
       "      <th>InternetService</th>\n",
       "      <th>OnlineSecurity</th>\n",
       "      <th>OnlineBackup</th>\n",
       "      <th>DeviceProtection</th>\n",
       "      <th>TechSupport</th>\n",
       "      <th>StreamingTV</th>\n",
       "      <th>StreamingMovies</th>\n",
       "      <th>Contract</th>\n",
       "      <th>PaperlessBilling</th>\n",
       "      <th>PaymentMethod</th>\n",
       "      <th>MonthlyCharges</th>\n",
       "      <th>TotalCharges</th>\n",
       "      <th>Churn</th>\n",
       "    </tr>\n",
       "  </thead>\n",
       "  <tbody>\n",
       "    <tr>\n",
       "      <th>0</th>\n",
       "      <td>7590-VHVEG</td>\n",
       "      <td>Female</td>\n",
       "      <td>0</td>\n",
       "      <td>Yes</td>\n",
       "      <td>No</td>\n",
       "      <td>1</td>\n",
       "      <td>No</td>\n",
       "      <td>No phone service</td>\n",
       "      <td>DSL</td>\n",
       "      <td>No</td>\n",
       "      <td>Yes</td>\n",
       "      <td>No</td>\n",
       "      <td>No</td>\n",
       "      <td>No</td>\n",
       "      <td>No</td>\n",
       "      <td>Month-to-month</td>\n",
       "      <td>Yes</td>\n",
       "      <td>Electronic check</td>\n",
       "      <td>29.85</td>\n",
       "      <td>29.85</td>\n",
       "      <td>No</td>\n",
       "    </tr>\n",
       "    <tr>\n",
       "      <th>1</th>\n",
       "      <td>5575-GNVDE</td>\n",
       "      <td>Male</td>\n",
       "      <td>0</td>\n",
       "      <td>No</td>\n",
       "      <td>No</td>\n",
       "      <td>34</td>\n",
       "      <td>Yes</td>\n",
       "      <td>No</td>\n",
       "      <td>DSL</td>\n",
       "      <td>Yes</td>\n",
       "      <td>No</td>\n",
       "      <td>Yes</td>\n",
       "      <td>No</td>\n",
       "      <td>No</td>\n",
       "      <td>No</td>\n",
       "      <td>One year</td>\n",
       "      <td>No</td>\n",
       "      <td>Mailed check</td>\n",
       "      <td>56.95</td>\n",
       "      <td>1889.5</td>\n",
       "      <td>No</td>\n",
       "    </tr>\n",
       "    <tr>\n",
       "      <th>2</th>\n",
       "      <td>3668-QPYBK</td>\n",
       "      <td>Male</td>\n",
       "      <td>0</td>\n",
       "      <td>No</td>\n",
       "      <td>No</td>\n",
       "      <td>2</td>\n",
       "      <td>Yes</td>\n",
       "      <td>No</td>\n",
       "      <td>DSL</td>\n",
       "      <td>Yes</td>\n",
       "      <td>Yes</td>\n",
       "      <td>No</td>\n",
       "      <td>No</td>\n",
       "      <td>No</td>\n",
       "      <td>No</td>\n",
       "      <td>Month-to-month</td>\n",
       "      <td>Yes</td>\n",
       "      <td>Mailed check</td>\n",
       "      <td>53.85</td>\n",
       "      <td>108.15</td>\n",
       "      <td>Yes</td>\n",
       "    </tr>\n",
       "    <tr>\n",
       "      <th>3</th>\n",
       "      <td>7795-CFOCW</td>\n",
       "      <td>Male</td>\n",
       "      <td>0</td>\n",
       "      <td>No</td>\n",
       "      <td>No</td>\n",
       "      <td>45</td>\n",
       "      <td>No</td>\n",
       "      <td>No phone service</td>\n",
       "      <td>DSL</td>\n",
       "      <td>Yes</td>\n",
       "      <td>No</td>\n",
       "      <td>Yes</td>\n",
       "      <td>Yes</td>\n",
       "      <td>No</td>\n",
       "      <td>No</td>\n",
       "      <td>One year</td>\n",
       "      <td>No</td>\n",
       "      <td>Bank transfer (automatic)</td>\n",
       "      <td>42.30</td>\n",
       "      <td>1840.75</td>\n",
       "      <td>No</td>\n",
       "    </tr>\n",
       "    <tr>\n",
       "      <th>4</th>\n",
       "      <td>9237-HQITU</td>\n",
       "      <td>Female</td>\n",
       "      <td>0</td>\n",
       "      <td>No</td>\n",
       "      <td>No</td>\n",
       "      <td>2</td>\n",
       "      <td>Yes</td>\n",
       "      <td>No</td>\n",
       "      <td>Fiber optic</td>\n",
       "      <td>No</td>\n",
       "      <td>No</td>\n",
       "      <td>No</td>\n",
       "      <td>No</td>\n",
       "      <td>No</td>\n",
       "      <td>No</td>\n",
       "      <td>Month-to-month</td>\n",
       "      <td>Yes</td>\n",
       "      <td>Electronic check</td>\n",
       "      <td>70.70</td>\n",
       "      <td>151.65</td>\n",
       "      <td>Yes</td>\n",
       "    </tr>\n",
       "  </tbody>\n",
       "</table>\n",
       "</div>"
      ],
      "text/plain": [
       "   customerID  gender  SeniorCitizen  ... MonthlyCharges TotalCharges  Churn\n",
       "0  7590-VHVEG  Female              0  ...          29.85        29.85     No\n",
       "1  5575-GNVDE    Male              0  ...          56.95       1889.5     No\n",
       "2  3668-QPYBK    Male              0  ...          53.85       108.15    Yes\n",
       "3  7795-CFOCW    Male              0  ...          42.30      1840.75     No\n",
       "4  9237-HQITU  Female              0  ...          70.70       151.65    Yes\n",
       "\n",
       "[5 rows x 21 columns]"
      ]
     },
     "execution_count": 4,
     "metadata": {
      "tags": []
     },
     "output_type": "execute_result"
    }
   ],
   "source": [
    "#Comando para verificar os primeiros registros\n",
    "df.head()"
   ]
  },
  {
   "cell_type": "code",
   "execution_count": 5,
   "metadata": {
    "colab": {
     "base_uri": "https://localhost:8080/",
     "height": 493
    },
    "executionInfo": {
     "elapsed": 4720,
     "status": "ok",
     "timestamp": 1601597905226,
     "user": {
      "displayName": "Andre Silva",
      "photoUrl": "",
      "userId": "16108664930684528224"
     },
     "user_tz": 180
    },
    "id": "BP5p-8XnWoJO",
    "outputId": "e64ab88d-4a67-4a9a-d7fd-ad57ef97760b"
   },
   "outputs": [
    {
     "name": "stdout",
     "output_type": "stream",
     "text": [
      "<class 'pandas.core.frame.DataFrame'>\n",
      "RangeIndex: 7043 entries, 0 to 7042\n",
      "Data columns (total 21 columns):\n",
      " #   Column            Non-Null Count  Dtype  \n",
      "---  ------            --------------  -----  \n",
      " 0   customerID        7043 non-null   object \n",
      " 1   gender            7043 non-null   object \n",
      " 2   SeniorCitizen     7043 non-null   int64  \n",
      " 3   Partner           7043 non-null   object \n",
      " 4   Dependents        7043 non-null   object \n",
      " 5   tenure            7043 non-null   int64  \n",
      " 6   PhoneService      7043 non-null   object \n",
      " 7   MultipleLines     7043 non-null   object \n",
      " 8   InternetService   7043 non-null   object \n",
      " 9   OnlineSecurity    7043 non-null   object \n",
      " 10  OnlineBackup      7043 non-null   object \n",
      " 11  DeviceProtection  7043 non-null   object \n",
      " 12  TechSupport       7043 non-null   object \n",
      " 13  StreamingTV       7043 non-null   object \n",
      " 14  StreamingMovies   7043 non-null   object \n",
      " 15  Contract          7043 non-null   object \n",
      " 16  PaperlessBilling  7043 non-null   object \n",
      " 17  PaymentMethod     7043 non-null   object \n",
      " 18  MonthlyCharges    7043 non-null   float64\n",
      " 19  TotalCharges      7043 non-null   object \n",
      " 20  Churn             7043 non-null   object \n",
      "dtypes: float64(1), int64(2), object(18)\n",
      "memory usage: 1.1+ MB\n"
     ]
    }
   ],
   "source": [
    "#Avaliando a estrutura dos dados\n",
    "df.info()"
   ]
  },
  {
   "cell_type": "code",
   "execution_count": 6,
   "metadata": {
    "colab": {
     "base_uri": "https://localhost:8080/",
     "height": 68
    },
    "executionInfo": {
     "elapsed": 4710,
     "status": "ok",
     "timestamp": 1601597905227,
     "user": {
      "displayName": "Andre Silva",
      "photoUrl": "",
      "userId": "16108664930684528224"
     },
     "user_tz": 180
    },
    "id": "fwCpNk8yWoJa",
    "outputId": "a26cbf05-4972-4f3b-c8e1-e1cc9ef91a16"
   },
   "outputs": [
    {
     "data": {
      "text/plain": [
       "Male      3555\n",
       "Female    3488\n",
       "Name: gender, dtype: int64"
      ]
     },
     "execution_count": 6,
     "metadata": {
      "tags": []
     },
     "output_type": "execute_result"
    }
   ],
   "source": [
    "#Verifica a variável \"Gender\" e sua distribuição\n",
    "df['gender'].value_counts()"
   ]
  },
  {
   "cell_type": "code",
   "execution_count": 7,
   "metadata": {
    "colab": {
     "base_uri": "https://localhost:8080/",
     "height": 297
    },
    "executionInfo": {
     "elapsed": 4700,
     "status": "ok",
     "timestamp": 1601597905228,
     "user": {
      "displayName": "Andre Silva",
      "photoUrl": "",
      "userId": "16108664930684528224"
     },
     "user_tz": 180
    },
    "id": "aadHMk8bWoJl",
    "outputId": "c410188d-c33b-4b0f-8b68-673a0bd0d453"
   },
   "outputs": [
    {
     "data": {
      "text/html": [
       "<div>\n",
       "<style scoped>\n",
       "    .dataframe tbody tr th:only-of-type {\n",
       "        vertical-align: middle;\n",
       "    }\n",
       "\n",
       "    .dataframe tbody tr th {\n",
       "        vertical-align: top;\n",
       "    }\n",
       "\n",
       "    .dataframe thead th {\n",
       "        text-align: right;\n",
       "    }\n",
       "</style>\n",
       "<table border=\"1\" class=\"dataframe\">\n",
       "  <thead>\n",
       "    <tr style=\"text-align: right;\">\n",
       "      <th></th>\n",
       "      <th>SeniorCitizen</th>\n",
       "      <th>tenure</th>\n",
       "      <th>MonthlyCharges</th>\n",
       "    </tr>\n",
       "  </thead>\n",
       "  <tbody>\n",
       "    <tr>\n",
       "      <th>count</th>\n",
       "      <td>7043.000000</td>\n",
       "      <td>7043.000000</td>\n",
       "      <td>7043.000000</td>\n",
       "    </tr>\n",
       "    <tr>\n",
       "      <th>mean</th>\n",
       "      <td>0.162147</td>\n",
       "      <td>32.371149</td>\n",
       "      <td>64.761692</td>\n",
       "    </tr>\n",
       "    <tr>\n",
       "      <th>std</th>\n",
       "      <td>0.368612</td>\n",
       "      <td>24.559481</td>\n",
       "      <td>30.090047</td>\n",
       "    </tr>\n",
       "    <tr>\n",
       "      <th>min</th>\n",
       "      <td>0.000000</td>\n",
       "      <td>0.000000</td>\n",
       "      <td>18.250000</td>\n",
       "    </tr>\n",
       "    <tr>\n",
       "      <th>25%</th>\n",
       "      <td>0.000000</td>\n",
       "      <td>9.000000</td>\n",
       "      <td>35.500000</td>\n",
       "    </tr>\n",
       "    <tr>\n",
       "      <th>50%</th>\n",
       "      <td>0.000000</td>\n",
       "      <td>29.000000</td>\n",
       "      <td>70.350000</td>\n",
       "    </tr>\n",
       "    <tr>\n",
       "      <th>75%</th>\n",
       "      <td>0.000000</td>\n",
       "      <td>55.000000</td>\n",
       "      <td>89.850000</td>\n",
       "    </tr>\n",
       "    <tr>\n",
       "      <th>max</th>\n",
       "      <td>1.000000</td>\n",
       "      <td>72.000000</td>\n",
       "      <td>118.750000</td>\n",
       "    </tr>\n",
       "  </tbody>\n",
       "</table>\n",
       "</div>"
      ],
      "text/plain": [
       "       SeniorCitizen       tenure  MonthlyCharges\n",
       "count    7043.000000  7043.000000     7043.000000\n",
       "mean        0.162147    32.371149       64.761692\n",
       "std         0.368612    24.559481       30.090047\n",
       "min         0.000000     0.000000       18.250000\n",
       "25%         0.000000     9.000000       35.500000\n",
       "50%         0.000000    29.000000       70.350000\n",
       "75%         0.000000    55.000000       89.850000\n",
       "max         1.000000    72.000000      118.750000"
      ]
     },
     "execution_count": 7,
     "metadata": {
      "tags": []
     },
     "output_type": "execute_result"
    }
   ],
   "source": [
    "#Medidas estatísticas das variáveis númericas\n",
    "df.describe()"
   ]
  },
  {
   "cell_type": "code",
   "execution_count": 8,
   "metadata": {
    "executionInfo": {
     "elapsed": 4691,
     "status": "ok",
     "timestamp": 1601597905229,
     "user": {
      "displayName": "Andre Silva",
      "photoUrl": "",
      "userId": "16108664930684528224"
     },
     "user_tz": 180
    },
    "id": "KOgg9-ASWoJy"
   },
   "outputs": [],
   "source": [
    "#Conversão do campo \"TotalCharges\" para numérico\n",
    "df['TotalCharges'] = pd.to_numeric(df['TotalCharges'], errors='coerce')"
   ]
  },
  {
   "cell_type": "code",
   "execution_count": 9,
   "metadata": {
    "colab": {
     "base_uri": "https://localhost:8080/",
     "height": 391
    },
    "executionInfo": {
     "elapsed": 4683,
     "status": "ok",
     "timestamp": 1601597905229,
     "user": {
      "displayName": "Andre Silva",
      "photoUrl": "",
      "userId": "16108664930684528224"
     },
     "user_tz": 180
    },
    "id": "Lb-md9azWoJ_",
    "outputId": "2dac9cee-ebd5-4363-b536-b5b52f9adac6"
   },
   "outputs": [
    {
     "data": {
      "text/plain": [
       "customerID           0\n",
       "gender               0\n",
       "SeniorCitizen        0\n",
       "Partner              0\n",
       "Dependents           0\n",
       "tenure               0\n",
       "PhoneService         0\n",
       "MultipleLines        0\n",
       "InternetService      0\n",
       "OnlineSecurity       0\n",
       "OnlineBackup         0\n",
       "DeviceProtection     0\n",
       "TechSupport          0\n",
       "StreamingTV          0\n",
       "StreamingMovies      0\n",
       "Contract             0\n",
       "PaperlessBilling     0\n",
       "PaymentMethod        0\n",
       "MonthlyCharges       0\n",
       "TotalCharges        11\n",
       "Churn                0\n",
       "dtype: int64"
      ]
     },
     "execution_count": 9,
     "metadata": {
      "tags": []
     },
     "output_type": "execute_result"
    }
   ],
   "source": [
    "#Verificação de valores nulos\n",
    "df.isnull().sum()"
   ]
  },
  {
   "cell_type": "code",
   "execution_count": 10,
   "metadata": {
    "executionInfo": {
     "elapsed": 4674,
     "status": "ok",
     "timestamp": 1601597905230,
     "user": {
      "displayName": "Andre Silva",
      "photoUrl": "",
      "userId": "16108664930684528224"
     },
     "user_tz": 180
    },
    "id": "Zf3hoB43WoKP"
   },
   "outputs": [],
   "source": [
    "#Substituição de valores em branco e remoção de nulos do campo \"TotalCharges\"\n",
    "df['TotalCharges'] = df[\"TotalCharges\"].replace(\" \",np.nan)\n",
    "df.dropna(inplace = True)"
   ]
  },
  {
   "cell_type": "code",
   "execution_count": 11,
   "metadata": {
    "executionInfo": {
     "elapsed": 4664,
     "status": "ok",
     "timestamp": 1601597905231,
     "user": {
      "displayName": "Andre Silva",
      "photoUrl": "",
      "userId": "16108664930684528224"
     },
     "user_tz": 180
    },
    "id": "QUGQtRzUWoKa"
   },
   "outputs": [],
   "source": [
    "#Conversão da variável preditora \"Churn\" em númerica\n",
    "df['Churn'].replace(to_replace='Yes', value=1, inplace=True)\n",
    "df['Churn'].replace(to_replace='No',  value=0, inplace=True)"
   ]
  },
  {
   "cell_type": "markdown",
   "metadata": {
    "id": "7YvlEFLrWoKm"
   },
   "source": [
    "### Análise Gráfica"
   ]
  },
  {
   "cell_type": "markdown",
   "metadata": {
    "id": "3CnIbgzjgNgH"
   },
   "source": [
    "A seção abaixo visa aplicar técnicas de Visualização de Dados para melhor compreensão dos mesmos"
   ]
  },
  {
   "cell_type": "code",
   "execution_count": 12,
   "metadata": {
    "colab": {
     "base_uri": "https://localhost:8080/",
     "height": 301
    },
    "executionInfo": {
     "elapsed": 4658,
     "status": "ok",
     "timestamp": 1601597905232,
     "user": {
      "displayName": "Andre Silva",
      "photoUrl": "",
      "userId": "16108664930684528224"
     },
     "user_tz": 180
    },
    "id": "QW-6io9rWoKp",
    "outputId": "e730c1ee-d1d4-43c7-baff-8f0113553d57"
   },
   "outputs": [
    {
     "data": {
      "image/png": "[encoded data removed]",
      "text/plain": [
       "<Figure size 432x288 with 1 Axes>"
      ]
     },
     "metadata": {
      "needs_background": "light",
      "tags": []
     },
     "output_type": "display_data"
    }
   ],
   "source": [
    "#Gráfico de barras para análise do gênero\n",
    "#Como podemos analisar nossa base de dados está igualmente dividida entre os gêneros\n",
    "colors = ['#4D3425','#E4512B']\n",
    "ax = (df['gender'].value_counts()*100.0 /len(df)).plot(kind='bar',\n",
    "                                                                           stacked = True,\n",
    "                                                                          rot = 0,\n",
    "                                                                          color = colors)\n",
    "ax.yaxis.set_major_formatter(mtick.PercentFormatter())\n",
    "ax.set_ylabel('% Customers')\n",
    "ax.set_xlabel('gender')\n",
    "ax.set_ylabel('% Customers')\n",
    "ax.set_title('Gender Distribution')\n",
    "\n",
    "totals = []\n",
    "\n",
    "for i in ax.patches:\n",
    "    totals.append(i.get_width())\n",
    "\n",
    "total = sum(totals)\n",
    "\n",
    "for i in ax.patches:\n",
    "    ax.text(i.get_x()+.15, i.get_height()-3.5, \\\n",
    "            str(round((i.get_height()/total), 1))+'%',\n",
    "            fontsize=12,\n",
    "            color='white',\n",
    "           weight = 'bold')"
   ]
  },
  {
   "cell_type": "code",
   "execution_count": 13,
   "metadata": {
    "colab": {
     "base_uri": "https://localhost:8080/",
     "height": 336
    },
    "executionInfo": {
     "elapsed": 4650,
     "status": "ok",
     "timestamp": 1601597905234,
     "user": {
      "displayName": "Andre Silva",
      "photoUrl": "",
      "userId": "16108664930684528224"
     },
     "user_tz": 180
    },
    "id": "fDi4xaOHWoK2",
    "outputId": "00168c36-e0b4-48e5-a82e-7a4b27f448bb"
   },
   "outputs": [
    {
     "data": {
      "text/plain": [
       "Text(0.5, 1.0, '% of Senior Citizens')"
      ]
     },
     "execution_count": 13,
     "metadata": {
      "tags": []
     },
     "output_type": "execute_result"
    },
    {
     "data": {
      "image/png": "[encoded data removed]",
      "text/plain": [
       "<Figure size 360x360 with 1 Axes>"
      ]
     },
     "metadata": {
      "tags": []
     },
     "output_type": "display_data"
    }
   ],
   "source": [
    "#Gráfico de pizza para avaliação dos clientes mais velhos\n",
    "#Apenas 16% dos clientes são idosos. Assim, a maioria dos nossos clientes nos dados são jovens.\n",
    "ax = (df['SeniorCitizen'].value_counts()*100.0 /len(df))\\\n",
    ".plot.pie(autopct='%.1f%%', labels = ['No', 'Yes'],figsize =(5,5), fontsize = 12 )                                                                           \n",
    "ax.yaxis.set_major_formatter(mtick.PercentFormatter())\n",
    "ax.set_ylabel('Senior Citizens',fontsize = 12)\n",
    "ax.set_title('% of Senior Citizens', fontsize = 12)"
   ]
  },
  {
   "cell_type": "code",
   "execution_count": 14,
   "metadata": {
    "colab": {
     "base_uri": "https://localhost:8080/",
     "height": 394
    },
    "executionInfo": {
     "elapsed": 4640,
     "status": "ok",
     "timestamp": 1601597905235,
     "user": {
      "displayName": "Andre Silva",
      "photoUrl": "",
      "userId": "16108664930684528224"
     },
     "user_tz": 180
    },
    "id": "4iyQMLd1WoK_",
    "outputId": "bfa217b0-1481-4fb0-f1f0-44146e6a3167"
   },
   "outputs": [
    {
     "data": {
      "image/png": "[encoded data removed]",
      "text/plain": [
       "<Figure size 576x432 with 1 Axes>"
      ]
     },
     "metadata": {
      "needs_background": "light",
      "tags": []
     },
     "output_type": "display_data"
    }
   ],
   "source": [
    "#Gráfico de barras empilhadas para análise de \"Dependentes\" e \"Parceiros\"\n",
    "#Cerca de 50% dos clientes possuem parceiro, enquanto apenas 30% do total de clientes possuem dependentes.\n",
    "df2 = pd.melt(df, id_vars=['customerID'], value_vars=['Dependents','Partner'])\n",
    "df3 = df2.groupby(['variable','value']).count().unstack()\n",
    "df3 = df3*100/len(df)\n",
    "colors = ['#4D3425','#E4512B']\n",
    "ax = df3.loc[:,'customerID'].plot.bar(stacked=True, color=colors,\n",
    "                                      figsize=(8,6),rot = 0,\n",
    "                                     width = 0.2)\n",
    "\n",
    "ax.yaxis.set_major_formatter(mtick.PercentFormatter())\n",
    "ax.set_ylabel('% Customers',size = 14)\n",
    "ax.set_xlabel('')\n",
    "ax.set_title('% Customers with dependents and partners',size = 14)\n",
    "ax.legend(loc = 'center',prop={'size':14})\n",
    "\n",
    "for p in ax.patches:\n",
    "    width, height = p.get_width(), p.get_height()\n",
    "    x, y = p.get_xy() \n",
    "    ax.annotate('{:.0f}%'.format(height), (p.get_x()+.25*width, p.get_y()+.4*height),\n",
    "                color = 'white',\n",
    "               weight = 'bold',\n",
    "               size = 14)"
   ]
  },
  {
   "cell_type": "code",
   "execution_count": 15,
   "metadata": {
    "colab": {
     "base_uri": "https://localhost:8080/",
     "height": 372
    },
    "executionInfo": {
     "elapsed": 4630,
     "status": "ok",
     "timestamp": 1601597905236,
     "user": {
      "displayName": "Andre Silva",
      "photoUrl": "",
      "userId": "16108664930684528224"
     },
     "user_tz": 180
    },
    "id": "kG0W-WLTWoLJ",
    "outputId": "03f0caf2-e4f1-4ce8-b414-c925ad04907c"
   },
   "outputs": [
    {
     "name": "stderr",
     "output_type": "stream",
     "text": [
      "/usr/local/lib/python3.6/dist-packages/seaborn/distributions.py:2551: FutureWarning: `distplot` is a deprecated function and will be removed in a future version. Please adapt your code to use either `displot` (a figure-level function with similar flexibility) or `histplot` (an axes-level function for histograms).\n",
      "  warnings.warn(msg, FutureWarning)\n"
     ]
    },
    {
     "data": {
      "text/plain": [
       "Text(0.5, 1.0, '# of Customers by their tenure')"
      ]
     },
     "execution_count": 15,
     "metadata": {
      "tags": []
     },
     "output_type": "execute_result"
    },
    {
     "data": {
      "image/png": "[encoded data removed]",
      "text/plain": [
       "<Figure size 432x288 with 1 Axes>"
      ]
     },
     "metadata": {
      "needs_background": "light",
      "tags": []
     },
     "output_type": "display_data"
    }
   ],
   "source": [
    "#Gráfico de distribuição da variável \"Tenure\" (Tempo de Contrato)\n",
    "#Com exceção das pontas do gráfico, o tempo de contrato é bem distribuído entre os intervalos\n",
    "ax = sns.distplot(df['tenure'], hist=True, kde=False, \n",
    "             bins=int(180/5), color = 'darkblue', \n",
    "             hist_kws={'edgecolor':'black'},\n",
    "             kde_kws={'linewidth': 4})\n",
    "ax.set_ylabel('# of Customers')\n",
    "ax.set_xlabel('Tenure (months)')\n",
    "ax.set_title('# of Customers by their tenure')"
   ]
  },
  {
   "cell_type": "code",
   "execution_count": 16,
   "metadata": {
    "colab": {
     "base_uri": "https://localhost:8080/",
     "height": 465
    },
    "executionInfo": {
     "elapsed": 4621,
     "status": "ok",
     "timestamp": 1601597905237,
     "user": {
      "displayName": "Andre Silva",
      "photoUrl": "",
      "userId": "16108664930684528224"
     },
     "user_tz": 180
    },
    "id": "kNr19XD2WoLT",
    "outputId": "8ef13d45-34cc-42ad-8b28-e113071ffb8f"
   },
   "outputs": [
    {
     "name": "stderr",
     "output_type": "stream",
     "text": [
      "/usr/local/lib/python3.6/dist-packages/seaborn/_decorators.py:43: FutureWarning: Pass the following variable as a keyword arg: x. From version 0.12, the only valid positional argument will be `data`, and passing other arguments without an explicit keyword will result in an error or misinterpretation.\n",
      "  FutureWarning\n"
     ]
    },
    {
     "data": {
      "text/plain": [
       "Text(0.5, 1.0, 'Contract Type')"
      ]
     },
     "execution_count": 16,
     "metadata": {
      "tags": []
     },
     "output_type": "execute_result"
    },
    {
     "data": {
      "image/png": "[encoded data removed]",
      "text/plain": [
       "<Figure size 576x432 with 1 Axes>"
      ]
     },
     "metadata": {
      "needs_background": "light",
      "tags": []
     },
     "output_type": "display_data"
    }
   ],
   "source": [
    "#Analisando os tipos de contrato\n",
    "plt.figure(figsize=(8,6))\n",
    "sns.countplot(df['Contract'])\n",
    "ax.set_ylabel('Customers')\n",
    "ax.set_title('Contract Type')"
   ]
  },
  {
   "cell_type": "code",
   "execution_count": 17,
   "metadata": {
    "colab": {
     "base_uri": "https://localhost:8080/",
     "height": 356
    },
    "executionInfo": {
     "elapsed": 4612,
     "status": "ok",
     "timestamp": 1601597905238,
     "user": {
      "displayName": "Andre Silva",
      "photoUrl": "",
      "userId": "16108664930684528224"
     },
     "user_tz": 180
    },
    "id": "PWmZnqxRWoLb",
    "outputId": "d8cdd463-0918-4676-c2df-735bd5db4d54"
   },
   "outputs": [
    {
     "name": "stderr",
     "output_type": "stream",
     "text": [
      "/usr/local/lib/python3.6/dist-packages/seaborn/_decorators.py:43: FutureWarning: Pass the following variables as keyword args: x, y. From version 0.12, the only valid positional argument will be `data`, and passing other arguments without an explicit keyword will result in an error or misinterpretation.\n",
      "  FutureWarning\n"
     ]
    },
    {
     "data": {
      "text/plain": [
       "<matplotlib.axes._subplots.AxesSubplot at 0x7fe717b1f8d0>"
      ]
     },
     "execution_count": 17,
     "metadata": {
      "tags": []
     },
     "output_type": "execute_result"
    },
    {
     "data": {
      "image/png": "[encoded data removed]",
      "text/plain": [
       "<Figure size 432x288 with 1 Axes>"
      ]
     },
     "metadata": {
      "needs_background": "light",
      "tags": []
     },
     "output_type": "display_data"
    }
   ],
   "source": [
    "#Gráfico boxplot para Análise de Churn por Tempo de Contrato\n",
    "sns.boxplot(df['Churn'], df['tenure'])"
   ]
  },
  {
   "cell_type": "code",
   "execution_count": 18,
   "metadata": {
    "colab": {
     "base_uri": "https://localhost:8080/",
     "height": 356
    },
    "executionInfo": {
     "elapsed": 5460,
     "status": "ok",
     "timestamp": 1601597906098,
     "user": {
      "displayName": "Andre Silva",
      "photoUrl": "",
      "userId": "16108664930684528224"
     },
     "user_tz": 180
    },
    "id": "pPNGfcZeWoLh",
    "outputId": "3d30a1de-9e34-4753-f8c6-0a511e049f29"
   },
   "outputs": [
    {
     "name": "stderr",
     "output_type": "stream",
     "text": [
      "/usr/local/lib/python3.6/dist-packages/seaborn/_decorators.py:43: FutureWarning: Pass the following variables as keyword args: x, y. From version 0.12, the only valid positional argument will be `data`, and passing other arguments without an explicit keyword will result in an error or misinterpretation.\n",
      "  FutureWarning\n"
     ]
    },
    {
     "data": {
      "text/plain": [
       "<matplotlib.axes._subplots.AxesSubplot at 0x7fe717a05c50>"
      ]
     },
     "execution_count": 18,
     "metadata": {
      "tags": []
     },
     "output_type": "execute_result"
    },
    {
     "data": {
      "image/png": "[encoded data removed]",
      "text/plain": [
       "<Figure size 432x288 with 1 Axes>"
      ]
     },
     "metadata": {
      "needs_background": "light",
      "tags": []
     },
     "output_type": "display_data"
    }
   ],
   "source": [
    "#Gráfico boxplot para Análise de Churn por Total Cobrado\n",
    "sns.boxplot(df['Churn'], df['TotalCharges'])"
   ]
  },
  {
   "cell_type": "code",
   "execution_count": 19,
   "metadata": {
    "colab": {
     "base_uri": "https://localhost:8080/",
     "height": 356
    },
    "executionInfo": {
     "elapsed": 5449,
     "status": "ok",
     "timestamp": 1601597906100,
     "user": {
      "displayName": "Andre Silva",
      "photoUrl": "",
      "userId": "16108664930684528224"
     },
     "user_tz": 180
    },
    "id": "JfZQcDDHWoLo",
    "outputId": "2a1121f5-c45d-4ab2-bf9a-5248e63d7999"
   },
   "outputs": [
    {
     "name": "stderr",
     "output_type": "stream",
     "text": [
      "/usr/local/lib/python3.6/dist-packages/seaborn/_decorators.py:43: FutureWarning: Pass the following variables as keyword args: x, y. From version 0.12, the only valid positional argument will be `data`, and passing other arguments without an explicit keyword will result in an error or misinterpretation.\n",
      "  FutureWarning\n"
     ]
    },
    {
     "data": {
      "text/plain": [
       "<matplotlib.axes._subplots.AxesSubplot at 0x7fe717973518>"
      ]
     },
     "execution_count": 19,
     "metadata": {
      "tags": []
     },
     "output_type": "execute_result"
    },
    {
     "data": {
      "image/png": "[encoded data removed]",
      "text/plain": [
       "<Figure size 432x288 with 1 Axes>"
      ]
     },
     "metadata": {
      "needs_background": "light",
      "tags": []
     },
     "output_type": "display_data"
    }
   ],
   "source": [
    "#Gráfico boxplot para Análise de Churn por Cobrança Mensal\n",
    "sns.boxplot(df['Churn'], df['MonthlyCharges'])"
   ]
  },
  {
   "cell_type": "code",
   "execution_count": 20,
   "metadata": {
    "colab": {
     "base_uri": "https://localhost:8080/",
     "height": 356
    },
    "executionInfo": {
     "elapsed": 5438,
     "status": "ok",
     "timestamp": 1601597906101,
     "user": {
      "displayName": "Andre Silva",
      "photoUrl": "",
      "userId": "16108664930684528224"
     },
     "user_tz": 180
    },
    "id": "1PEYKW3-WoLu",
    "outputId": "2913d0be-4bf2-4e69-ac72-fb7b9b09ff4f"
   },
   "outputs": [
    {
     "name": "stderr",
     "output_type": "stream",
     "text": [
      "/usr/local/lib/python3.6/dist-packages/seaborn/_decorators.py:43: FutureWarning: Pass the following variables as keyword args: x, y. From version 0.12, the only valid positional argument will be `data`, and passing other arguments without an explicit keyword will result in an error or misinterpretation.\n",
      "  FutureWarning\n"
     ]
    },
    {
     "data": {
      "text/plain": [
       "<matplotlib.axes._subplots.AxesSubplot at 0x7fe7178dbac8>"
      ]
     },
     "execution_count": 20,
     "metadata": {
      "tags": []
     },
     "output_type": "execute_result"
    },
    {
     "data": {
      "image/png": "[encoded data removed]",
      "text/plain": [
       "<Figure size 432x288 with 1 Axes>"
      ]
     },
     "metadata": {
      "needs_background": "light",
      "tags": []
     },
     "output_type": "display_data"
    }
   ],
   "source": [
    "#Gráfico boxplot para Análise de Cobrança Mensal por Tipo de Contrato\n",
    "sns.boxplot(df['Contract'], df['MonthlyCharges'])"
   ]
  },
  {
   "cell_type": "code",
   "execution_count": 21,
   "metadata": {
    "colab": {
     "base_uri": "https://localhost:8080/",
     "height": 465
    },
    "executionInfo": {
     "elapsed": 5428,
     "status": "ok",
     "timestamp": 1601597906103,
     "user": {
      "displayName": "Andre Silva",
      "photoUrl": "",
      "userId": "16108664930684528224"
     },
     "user_tz": 180
    },
    "id": "htZF6wgtWoL1",
    "outputId": "d991e650-cbb0-46c6-90d0-81cb42fabb7d"
   },
   "outputs": [
    {
     "name": "stderr",
     "output_type": "stream",
     "text": [
      "/usr/local/lib/python3.6/dist-packages/seaborn/_decorators.py:43: FutureWarning: Pass the following variable as a keyword arg: x. From version 0.12, the only valid positional argument will be `data`, and passing other arguments without an explicit keyword will result in an error or misinterpretation.\n",
      "  FutureWarning\n"
     ]
    },
    {
     "data": {
      "text/plain": [
       "<matplotlib.axes._subplots.AxesSubplot at 0x7fe71785a278>"
      ]
     },
     "execution_count": 21,
     "metadata": {
      "tags": []
     },
     "output_type": "execute_result"
    },
    {
     "data": {
      "image/png": "[encoded data removed]",
      "text/plain": [
       "<Figure size 720x432 with 1 Axes>"
      ]
     },
     "metadata": {
      "needs_background": "light",
      "tags": []
     },
     "output_type": "display_data"
    }
   ],
   "source": [
    "#Gráfico de Barras para Análise de Churn por Meios de Pagamento\n",
    "plt.figure(figsize=(10,6))\n",
    "sns.countplot(df['PaymentMethod'], data = df, hue='Churn')"
   ]
  },
  {
   "cell_type": "code",
   "execution_count": 22,
   "metadata": {
    "colab": {
     "base_uri": "https://localhost:8080/",
     "height": 356
    },
    "executionInfo": {
     "elapsed": 5418,
     "status": "ok",
     "timestamp": 1601597906104,
     "user": {
      "displayName": "Andre Silva",
      "photoUrl": "",
      "userId": "16108664930684528224"
     },
     "user_tz": 180
    },
    "id": "GwE_2QZ_WoL9",
    "outputId": "0171704b-b333-41f6-c42f-ef3e1be47967"
   },
   "outputs": [
    {
     "name": "stderr",
     "output_type": "stream",
     "text": [
      "/usr/local/lib/python3.6/dist-packages/seaborn/_decorators.py:43: FutureWarning: Pass the following variable as a keyword arg: x. From version 0.12, the only valid positional argument will be `data`, and passing other arguments without an explicit keyword will result in an error or misinterpretation.\n",
      "  FutureWarning\n"
     ]
    },
    {
     "data": {
      "text/plain": [
       "<matplotlib.axes._subplots.AxesSubplot at 0x7fe7177da470>"
      ]
     },
     "execution_count": 22,
     "metadata": {
      "tags": []
     },
     "output_type": "execute_result"
    },
    {
     "data": {
      "image/png": "[encoded data removed]",
      "text/plain": [
       "<Figure size 432x288 with 1 Axes>"
      ]
     },
     "metadata": {
      "needs_background": "light",
      "tags": []
     },
     "output_type": "display_data"
    }
   ],
   "source": [
    "#Análise de Churn por Gênero\n",
    "sns.countplot(df['gender'], data = df, hue='Churn')"
   ]
  },
  {
   "cell_type": "code",
   "execution_count": 23,
   "metadata": {
    "colab": {
     "base_uri": "https://localhost:8080/",
     "height": 411
    },
    "executionInfo": {
     "elapsed": 6818,
     "status": "ok",
     "timestamp": 1601597907516,
     "user": {
      "displayName": "Andre Silva",
      "photoUrl": "",
      "userId": "16108664930684528224"
     },
     "user_tz": 180
    },
    "id": "ANSL3zmmWoMD",
    "outputId": "5cbcbeb6-7af4-4876-ca79-28e68151815c"
   },
   "outputs": [
    {
     "data": {
      "image/png": "[encoded data removed]",
      "text/plain": [
       "<Figure size 720x432 with 1 Axes>"
      ]
     },
     "metadata": {
      "needs_background": "light",
      "tags": []
     },
     "output_type": "display_data"
    }
   ],
   "source": [
    "#Gráfico de barras empilhadas por \"Tipo de Contrato\"\n",
    "#A análise revela que o tipo de contrato \"Month-to-Month\" é o que possuí o maior percentual de churn\n",
    "colors = ['#4D3425','#E4512B']\n",
    "contract_churn = df.groupby(['Contract','Churn']).size().unstack()\n",
    "\n",
    "ax = (contract_churn.T*100.0 / contract_churn.T.sum()).T.plot(kind='bar',\n",
    "                                                                width = 0.3,\n",
    "                                                                stacked = True,\n",
    "                                                                rot = 0, \n",
    "                                                                figsize = (10,6),\n",
    "                                                                color = colors)\n",
    "ax.yaxis.set_major_formatter(mtick.PercentFormatter())\n",
    "ax.legend(loc='best',prop={'size':14},title = 'Churn')\n",
    "ax.set_ylabel('% Customers',size = 14)\n",
    "ax.set_title('Churn por Tipo de Contrato',size = 14)\n",
    "\n",
    "\n",
    "for p in ax.patches:\n",
    "    width, height = p.get_width(), p.get_height()\n",
    "    x, y = p.get_xy() \n",
    "    ax.annotate('{:.0f}%'.format(height), (p.get_x()+.25*width, p.get_y()+.4*height),\n",
    "                color = 'white',\n",
    "               weight = 'bold',\n",
    "               size = 14)"
   ]
  },
  {
   "cell_type": "code",
   "execution_count": 24,
   "metadata": {
    "colab": {
     "base_uri": "https://localhost:8080/",
     "height": 411
    },
    "executionInfo": {
     "elapsed": 6807,
     "status": "ok",
     "timestamp": 1601597907517,
     "user": {
      "displayName": "Andre Silva",
      "photoUrl": "",
      "userId": "16108664930684528224"
     },
     "user_tz": 180
    },
    "id": "UlzR2aiJWoMI",
    "outputId": "bba72e47-8cf0-4d94-fe3e-3688710ed91e"
   },
   "outputs": [
    {
     "data": {
      "image/png": "[encoded data removed]",
      "text/plain": [
       "<Figure size 576x432 with 1 Axes>"
      ]
     },
     "metadata": {
      "needs_background": "light",
      "tags": []
     },
     "output_type": "display_data"
    }
   ],
   "source": [
    "#Gráfico de barras empilhadas por \"Senioridade\"\n",
    "#A análise revela que clientes mais velhos cancelam mais os contratos\n",
    "colors = ['#4D3425','#E4512B']\n",
    "seniority_churn = df.groupby(['SeniorCitizen','Churn']).size().unstack()\n",
    "\n",
    "ax = (seniority_churn.T*100.0 / seniority_churn.T.sum()).T.plot(kind='bar',\n",
    "                                                                width = 0.2,\n",
    "                                                                stacked = True,\n",
    "                                                                rot = 0, \n",
    "                                                                figsize = (8,6),\n",
    "                                                                color = colors)\n",
    "ax.yaxis.set_major_formatter(mtick.PercentFormatter())\n",
    "ax.legend(loc='center',prop={'size':14},title = 'Churn')\n",
    "ax.set_ylabel('% Customers')\n",
    "ax.set_title('Churn by Seniority Level',size = 14)\n",
    "\n",
    "\n",
    "for p in ax.patches:\n",
    "    width, height = p.get_width(), p.get_height()\n",
    "    x, y = p.get_xy() \n",
    "    ax.annotate('{:.0f}%'.format(height), (p.get_x()+.25*width, p.get_y()+.4*height),\n",
    "                color = 'white',\n",
    "               weight = 'bold',size =14)"
   ]
  },
  {
   "cell_type": "markdown",
   "metadata": {
    "id": "5xrUxK21WoMQ"
   },
   "source": [
    "# Implementação dos Modelos"
   ]
  },
  {
   "cell_type": "markdown",
   "metadata": {
    "id": "cMQCsvrUmOVt"
   },
   "source": [
    "A partir dessa seção iremos implementar os modelos de Machine Learning, bem como selecionar as variáveis e aplicar algumas técnicas de Normalização e Enconding"
   ]
  },
  {
   "cell_type": "code",
   "execution_count": 25,
   "metadata": {
    "executionInfo": {
     "elapsed": 6797,
     "status": "ok",
     "timestamp": 1601597907518,
     "user": {
      "displayName": "Andre Silva",
      "photoUrl": "",
      "userId": "16108664930684528224"
     },
     "user_tz": 180
    },
    "id": "0It9AjHGWoMR"
   },
   "outputs": [],
   "source": [
    "#Seleção das variáveis\n",
    "y = df['Churn']\n",
    "X = df.drop(columns = ['Churn','customerID'])"
   ]
  },
  {
   "cell_type": "code",
   "execution_count": 26,
   "metadata": {
    "executionInfo": {
     "elapsed": 6792,
     "status": "ok",
     "timestamp": 1601597907520,
     "user": {
      "displayName": "Andre Silva",
      "photoUrl": "",
      "userId": "16108664930684528224"
     },
     "user_tz": 180
    },
    "id": "8fZVT-puWoMZ"
   },
   "outputs": [],
   "source": [
    "#Aplicação de técnica de Enconding para tornar os campos númericos\n",
    "from sklearn.preprocessing import LabelEncoder\n",
    "\n",
    "df_temp = X.select_dtypes(exclude='number')\n",
    "#  label encoding to all the columns \n",
    "\n",
    "label_encoders = {}\n",
    "for col in df_temp:\n",
    "        le = LabelEncoder()\n",
    "        le.fit(X[col])\n",
    "        X[col] = le.transform(X[col])\n",
    "        label_encoders[col] = le"
   ]
  },
  {
   "cell_type": "markdown",
   "metadata": {
    "id": "i9Yqt2ZjWoMf"
   },
   "source": [
    "### Técnica de Scale "
   ]
  },
  {
   "cell_type": "code",
   "execution_count": 27,
   "metadata": {
    "executionInfo": {
     "elapsed": 6786,
     "status": "ok",
     "timestamp": 1601597907521,
     "user": {
      "displayName": "Andre Silva",
      "photoUrl": "",
      "userId": "16108664930684528224"
     },
     "user_tz": 180
    },
    "id": "VghxPAi6WoMh"
   },
   "outputs": [],
   "source": [
    "#Normalização das variáveis independentes\n",
    "from sklearn.preprocessing import Normalizer\n",
    "scaler = Normalizer()\n",
    "scaler.fit(X)\n",
    "X_matrix = scaler.transform(X)\n",
    "\n",
    "X = pd.DataFrame(X_matrix,columns=X.columns)"
   ]
  },
  {
   "cell_type": "code",
   "execution_count": 28,
   "metadata": {
    "executionInfo": {
     "elapsed": 6780,
     "status": "ok",
     "timestamp": 1601597907522,
     "user": {
      "displayName": "Andre Silva",
      "photoUrl": "",
      "userId": "16108664930684528224"
     },
     "user_tz": 180
    },
    "id": "JtiI4VZlWoMm"
   },
   "outputs": [],
   "source": [
    "#Importação de bibliotecas importantes\n",
    "from sklearn.metrics import classification_report,confusion_matrix\n",
    "from sklearn.model_selection import StratifiedKFold\n",
    "from sklearn.feature_selection import RFECV"
   ]
  },
  {
   "cell_type": "code",
   "execution_count": 29,
   "metadata": {
    "executionInfo": {
     "elapsed": 6775,
     "status": "ok",
     "timestamp": 1601597907524,
     "user": {
      "displayName": "Andre Silva",
      "photoUrl": "",
      "userId": "16108664930684528224"
     },
     "user_tz": 180
    },
    "id": "BC00ZtsdWoMr"
   },
   "outputs": [],
   "source": [
    "#Separando dados de treino e teste\n",
    "from sklearn.model_selection import train_test_split\n",
    "seed = 1984\n",
    "X_train, X_test, y_train, y_test = train_test_split(X, y, test_size=0.3, random_state = seed )"
   ]
  },
  {
   "cell_type": "markdown",
   "metadata": {
    "id": "sptaq8aZWoMw"
   },
   "source": [
    "### Regressão Logística"
   ]
  },
  {
   "cell_type": "code",
   "execution_count": 30,
   "metadata": {
    "colab": {
     "base_uri": "https://localhost:8080/",
     "height": 358
    },
    "executionInfo": {
     "elapsed": 7862,
     "status": "ok",
     "timestamp": 1601597908619,
     "user": {
      "displayName": "Andre Silva",
      "photoUrl": "",
      "userId": "16108664930684528224"
     },
     "user_tz": 180
    },
    "id": "l7tr_RgRWoMx",
    "outputId": "59d36f48-dcb9-438d-a8c3-298d778ef928"
   },
   "outputs": [
    {
     "name": "stdout",
     "output_type": "stream",
     "text": [
      "Optimal number of features : 8\n"
     ]
    },
    {
     "data": {
      "image/png": "[encoded data removed]",
      "text/plain": [
       "<Figure size 432x288 with 1 Axes>"
      ]
     },
     "metadata": {
      "needs_background": "light",
      "tags": []
     },
     "output_type": "display_data"
    }
   ],
   "source": [
    "#Seleção de variáveis e treinamento do modelo\n",
    "from sklearn.linear_model import LogisticRegression\n",
    "\n",
    "model = LogisticRegression(random_state=seed)\n",
    "rfecv = RFECV(estimator=model, step=1, cv=StratifiedKFold(2),              \n",
    "            scoring='accuracy')\n",
    "\n",
    "rfecv.fit(X_train, y_train)\n",
    "\n",
    "print(\"Optimal number of features : %d\" % rfecv.n_features_)\n",
    "\n",
    "plt.figure()\n",
    "plt.xlabel(\"Number of features selected\")\n",
    "plt.ylabel(\"Cross validation score (nb of correct classifications)\")\n",
    "plt.plot(range(1, len(rfecv.grid_scores_) + 1), rfecv.grid_scores_)\n",
    "plt.show()"
   ]
  },
  {
   "cell_type": "code",
   "execution_count": 31,
   "metadata": {
    "colab": {
     "base_uri": "https://localhost:8080/",
     "height": 221
    },
    "executionInfo": {
     "elapsed": 7856,
     "status": "ok",
     "timestamp": 1601597908623,
     "user": {
      "displayName": "Andre Silva",
      "photoUrl": "",
      "userId": "16108664930684528224"
     },
     "user_tz": 180
    },
    "id": "hg6t4RlLWoM4",
    "outputId": "798d8f6d-c179-43ac-edbb-55257b0acf13"
   },
   "outputs": [
    {
     "name": "stdout",
     "output_type": "stream",
     "text": [
      "              precision    recall  f1-score   support\n",
      "\n",
      "           0       0.78      0.94      0.85      1553\n",
      "           1       0.61      0.26      0.37       557\n",
      "\n",
      "    accuracy                           0.76      2110\n",
      "   macro avg       0.70      0.60      0.61      2110\n",
      "weighted avg       0.74      0.76      0.72      2110\n",
      "\n",
      "Matriz de Confusão\n",
      "[[1462   91]\n",
      " [ 412  145]]\n"
     ]
    }
   ],
   "source": [
    "#Avaliação do modelo\n",
    "predictions = rfecv.predict(X_test)\n",
    "print(classification_report(y_test,predictions))\n",
    "print('Matriz de Confusão')\n",
    "print(confusion_matrix(y_test,predictions))"
   ]
  },
  {
   "cell_type": "code",
   "execution_count": 32,
   "metadata": {
    "colab": {
     "base_uri": "https://localhost:8080/",
     "height": 297
    },
    "executionInfo": {
     "elapsed": 8468,
     "status": "ok",
     "timestamp": 1601597909246,
     "user": {
      "displayName": "Andre Silva",
      "photoUrl": "",
      "userId": "16108664930684528224"
     },
     "user_tz": 180
    },
    "id": "XOu8hz15WoM-",
    "outputId": "57711665-5cdb-4302-adb2-ff5d61d5bff4"
   },
   "outputs": [
    {
     "data": {
      "text/html": [
       "<div>\n",
       "<style scoped>\n",
       "    .dataframe tbody tr th:only-of-type {\n",
       "        vertical-align: middle;\n",
       "    }\n",
       "\n",
       "    .dataframe tbody tr th {\n",
       "        vertical-align: top;\n",
       "    }\n",
       "\n",
       "    .dataframe thead th {\n",
       "        text-align: right;\n",
       "    }\n",
       "</style>\n",
       "<table border=\"1\" class=\"dataframe\">\n",
       "  <thead>\n",
       "    <tr style=\"text-align: right;\">\n",
       "      <th></th>\n",
       "      <th>0</th>\n",
       "      <th>X</th>\n",
       "    </tr>\n",
       "  </thead>\n",
       "  <tbody>\n",
       "    <tr>\n",
       "      <th>4</th>\n",
       "      <td>tenure</td>\n",
       "      <td>True</td>\n",
       "    </tr>\n",
       "    <tr>\n",
       "      <th>7</th>\n",
       "      <td>InternetService</td>\n",
       "      <td>True</td>\n",
       "    </tr>\n",
       "    <tr>\n",
       "      <th>8</th>\n",
       "      <td>OnlineSecurity</td>\n",
       "      <td>True</td>\n",
       "    </tr>\n",
       "    <tr>\n",
       "      <th>9</th>\n",
       "      <td>OnlineBackup</td>\n",
       "      <td>True</td>\n",
       "    </tr>\n",
       "    <tr>\n",
       "      <th>11</th>\n",
       "      <td>TechSupport</td>\n",
       "      <td>True</td>\n",
       "    </tr>\n",
       "    <tr>\n",
       "      <th>16</th>\n",
       "      <td>PaymentMethod</td>\n",
       "      <td>True</td>\n",
       "    </tr>\n",
       "    <tr>\n",
       "      <th>17</th>\n",
       "      <td>MonthlyCharges</td>\n",
       "      <td>True</td>\n",
       "    </tr>\n",
       "    <tr>\n",
       "      <th>18</th>\n",
       "      <td>TotalCharges</td>\n",
       "      <td>True</td>\n",
       "    </tr>\n",
       "  </tbody>\n",
       "</table>\n",
       "</div>"
      ],
      "text/plain": [
       "                  0     X\n",
       "4            tenure  True\n",
       "7   InternetService  True\n",
       "8    OnlineSecurity  True\n",
       "9      OnlineBackup  True\n",
       "11      TechSupport  True\n",
       "16    PaymentMethod  True\n",
       "17   MonthlyCharges  True\n",
       "18     TotalCharges  True"
      ]
     },
     "execution_count": 32,
     "metadata": {
      "tags": []
     },
     "output_type": "execute_result"
    }
   ],
   "source": [
    "#Análise das variáveis que o modelo levou em consideração\n",
    "df2 = pd.DataFrame(rfecv.support_)\n",
    "df3 = pd.DataFrame(X.columns)\n",
    "df3['X'] = df2\n",
    "df3[df3['X'] == True]"
   ]
  },
  {
   "cell_type": "markdown",
   "metadata": {
    "id": "WFNZgg63WoNC"
   },
   "source": [
    "### Decision Tree"
   ]
  },
  {
   "cell_type": "code",
   "execution_count": 33,
   "metadata": {
    "colab": {
     "base_uri": "https://localhost:8080/",
     "height": 358
    },
    "executionInfo": {
     "elapsed": 10322,
     "status": "ok",
     "timestamp": 1601597911113,
     "user": {
      "displayName": "Andre Silva",
      "photoUrl": "",
      "userId": "16108664930684528224"
     },
     "user_tz": 180
    },
    "id": "mFmr-SufWoND",
    "outputId": "faea522a-1957-4841-8753-42c4b58a1fd5"
   },
   "outputs": [
    {
     "name": "stdout",
     "output_type": "stream",
     "text": [
      "Optimal number of features : 6\n"
     ]
    },
    {
     "data": {
      "image/png": "[encoded data removed]",
      "text/plain": [
       "<Figure size 432x288 with 1 Axes>"
      ]
     },
     "metadata": {
      "needs_background": "light",
      "tags": []
     },
     "output_type": "display_data"
    }
   ],
   "source": [
    "#Seleção de variáveis e treinamento do modelo\n",
    "from sklearn.tree import DecisionTreeClassifier\n",
    "\n",
    "model = DecisionTreeClassifier(random_state=seed)\n",
    "rfecv = RFECV(estimator=model, step=1, cv=StratifiedKFold(2),              \n",
    "            scoring='accuracy')\n",
    "\n",
    "rfecv.fit(X_train, y_train)\n",
    "\n",
    "print(\"Optimal number of features : %d\" % rfecv.n_features_)\n",
    "\n",
    "plt.figure()\n",
    "plt.xlabel(\"Number of features selected\")\n",
    "plt.ylabel(\"Cross validation score (nb of correct classifications)\")\n",
    "plt.plot(range(1, len(rfecv.grid_scores_) + 1), rfecv.grid_scores_)\n",
    "plt.show()"
   ]
  },
  {
   "cell_type": "code",
   "execution_count": 34,
   "metadata": {
    "colab": {
     "base_uri": "https://localhost:8080/",
     "height": 221
    },
    "executionInfo": {
     "elapsed": 10311,
     "status": "ok",
     "timestamp": 1601597911114,
     "user": {
      "displayName": "Andre Silva",
      "photoUrl": "",
      "userId": "16108664930684528224"
     },
     "user_tz": 180
    },
    "id": "GyJT8dwuWoNK",
    "outputId": "ea3305a2-2e41-4f90-f510-bb177c08619d"
   },
   "outputs": [
    {
     "name": "stdout",
     "output_type": "stream",
     "text": [
      "              precision    recall  f1-score   support\n",
      "\n",
      "           0       0.82      0.82      0.82      1553\n",
      "           1       0.49      0.49      0.49       557\n",
      "\n",
      "    accuracy                           0.73      2110\n",
      "   macro avg       0.66      0.66      0.66      2110\n",
      "weighted avg       0.73      0.73      0.73      2110\n",
      "\n",
      "Matriz de Confusão\n",
      "[[1271  282]\n",
      " [ 283  274]]\n"
     ]
    }
   ],
   "source": [
    "#Avaliação do modelo\n",
    "predictions = rfecv.predict(X_test)\n",
    "print(classification_report(y_test,predictions))\n",
    "print('Matriz de Confusão')\n",
    "print(confusion_matrix(y_test,predictions))"
   ]
  },
  {
   "cell_type": "code",
   "execution_count": 35,
   "metadata": {
    "colab": {
     "base_uri": "https://localhost:8080/",
     "height": 235
    },
    "executionInfo": {
     "elapsed": 10300,
     "status": "ok",
     "timestamp": 1601597911115,
     "user": {
      "displayName": "Andre Silva",
      "photoUrl": "",
      "userId": "16108664930684528224"
     },
     "user_tz": 180
    },
    "id": "nYNXdwpQWoNQ",
    "outputId": "3344a375-0c24-4104-efe8-1cb5c7bc83cb"
   },
   "outputs": [
    {
     "data": {
      "text/html": [
       "<div>\n",
       "<style scoped>\n",
       "    .dataframe tbody tr th:only-of-type {\n",
       "        vertical-align: middle;\n",
       "    }\n",
       "\n",
       "    .dataframe tbody tr th {\n",
       "        vertical-align: top;\n",
       "    }\n",
       "\n",
       "    .dataframe thead th {\n",
       "        text-align: right;\n",
       "    }\n",
       "</style>\n",
       "<table border=\"1\" class=\"dataframe\">\n",
       "  <thead>\n",
       "    <tr style=\"text-align: right;\">\n",
       "      <th></th>\n",
       "      <th>0</th>\n",
       "      <th>X</th>\n",
       "    </tr>\n",
       "  </thead>\n",
       "  <tbody>\n",
       "    <tr>\n",
       "      <th>4</th>\n",
       "      <td>tenure</td>\n",
       "      <td>True</td>\n",
       "    </tr>\n",
       "    <tr>\n",
       "      <th>7</th>\n",
       "      <td>InternetService</td>\n",
       "      <td>True</td>\n",
       "    </tr>\n",
       "    <tr>\n",
       "      <th>14</th>\n",
       "      <td>Contract</td>\n",
       "      <td>True</td>\n",
       "    </tr>\n",
       "    <tr>\n",
       "      <th>16</th>\n",
       "      <td>PaymentMethod</td>\n",
       "      <td>True</td>\n",
       "    </tr>\n",
       "    <tr>\n",
       "      <th>17</th>\n",
       "      <td>MonthlyCharges</td>\n",
       "      <td>True</td>\n",
       "    </tr>\n",
       "    <tr>\n",
       "      <th>18</th>\n",
       "      <td>TotalCharges</td>\n",
       "      <td>True</td>\n",
       "    </tr>\n",
       "  </tbody>\n",
       "</table>\n",
       "</div>"
      ],
      "text/plain": [
       "                  0     X\n",
       "4            tenure  True\n",
       "7   InternetService  True\n",
       "14         Contract  True\n",
       "16    PaymentMethod  True\n",
       "17   MonthlyCharges  True\n",
       "18     TotalCharges  True"
      ]
     },
     "execution_count": 35,
     "metadata": {
      "tags": []
     },
     "output_type": "execute_result"
    }
   ],
   "source": [
    "#Análise das variáveis que o modelo levou em consideração\n",
    "df2 = pd.DataFrame(rfecv.support_)\n",
    "df3 = pd.DataFrame(X.columns)\n",
    "df3['X'] = df2\n",
    "df3[df3['X'] == True]"
   ]
  },
  {
   "cell_type": "markdown",
   "metadata": {
    "id": "dofabK5-WoNW"
   },
   "source": [
    "### Random Forest"
   ]
  },
  {
   "cell_type": "code",
   "execution_count": 36,
   "metadata": {
    "colab": {
     "base_uri": "https://localhost:8080/",
     "height": 358
    },
    "executionInfo": {
     "elapsed": 11815,
     "status": "ok",
     "timestamp": 1601597912642,
     "user": {
      "displayName": "Andre Silva",
      "photoUrl": "",
      "userId": "16108664930684528224"
     },
     "user_tz": 180
    },
    "id": "8Aj-eCI5WoNX",
    "outputId": "98426bbc-95d2-4034-bffc-8101f8f43dc0"
   },
   "outputs": [
    {
     "name": "stdout",
     "output_type": "stream",
     "text": [
      "Optimal number of features : 16\n"
     ]
    },
    {
     "data": {
      "image/png": "[encoded data removed]",
      "text/plain": [
       "<Figure size 432x288 with 1 Axes>"
      ]
     },
     "metadata": {
      "needs_background": "light",
      "tags": []
     },
     "output_type": "display_data"
    }
   ],
   "source": [
    "#Seleção de variáveis e treinamento do modelo\n",
    "from sklearn.ensemble import RandomForestClassifier\n",
    "\n",
    "model = RandomForestClassifier(n_estimators=5, random_state=seed)\n",
    "rfecv = RFECV(estimator=model, step=1, cv=StratifiedKFold(2),              \n",
    "            scoring='accuracy')\n",
    "\n",
    "rfecv.fit(X_train, y_train)\n",
    "\n",
    "print(\"Optimal number of features : %d\" % rfecv.n_features_)\n",
    "\n",
    "plt.figure()\n",
    "plt.xlabel(\"Number of features selected\")\n",
    "plt.ylabel(\"Cross validation score (nb of correct classifications)\")\n",
    "plt.plot(range(1, len(rfecv.grid_scores_) + 1), rfecv.grid_scores_)\n",
    "plt.show()"
   ]
  },
  {
   "cell_type": "code",
   "execution_count": 37,
   "metadata": {
    "colab": {
     "base_uri": "https://localhost:8080/",
     "height": 221
    },
    "executionInfo": {
     "elapsed": 11805,
     "status": "ok",
     "timestamp": 1601597912644,
     "user": {
      "displayName": "Andre Silva",
      "photoUrl": "",
      "userId": "16108664930684528224"
     },
     "user_tz": 180
    },
    "id": "-sjQmAJ0WoNf",
    "outputId": "02e38637-aa2a-400f-b00e-d12a39f0d7b0"
   },
   "outputs": [
    {
     "name": "stdout",
     "output_type": "stream",
     "text": [
      "              precision    recall  f1-score   support\n",
      "\n",
      "           0       0.82      0.85      0.84      1553\n",
      "           1       0.54      0.47      0.50       557\n",
      "\n",
      "    accuracy                           0.75      2110\n",
      "   macro avg       0.68      0.66      0.67      2110\n",
      "weighted avg       0.75      0.75      0.75      2110\n",
      "\n",
      "Matriz de Confusão\n",
      "[[1327  226]\n",
      " [ 293  264]]\n"
     ]
    }
   ],
   "source": [
    "#Avaliação do modelo\n",
    "predictions = rfecv.predict(X_test)\n",
    "print(classification_report(y_test,predictions))\n",
    "print('Matriz de Confusão')\n",
    "print(confusion_matrix(y_test,predictions))"
   ]
  },
  {
   "cell_type": "code",
   "execution_count": 38,
   "metadata": {
    "colab": {
     "base_uri": "https://localhost:8080/",
     "height": 545
    },
    "executionInfo": {
     "elapsed": 11795,
     "status": "ok",
     "timestamp": 1601597912645,
     "user": {
      "displayName": "Andre Silva",
      "photoUrl": "",
      "userId": "16108664930684528224"
     },
     "user_tz": 180
    },
    "id": "0vRVmsSaWoNk",
    "outputId": "2abb2922-580b-4214-8b88-818cdb1bccca"
   },
   "outputs": [
    {
     "data": {
      "text/html": [
       "<div>\n",
       "<style scoped>\n",
       "    .dataframe tbody tr th:only-of-type {\n",
       "        vertical-align: middle;\n",
       "    }\n",
       "\n",
       "    .dataframe tbody tr th {\n",
       "        vertical-align: top;\n",
       "    }\n",
       "\n",
       "    .dataframe thead th {\n",
       "        text-align: right;\n",
       "    }\n",
       "</style>\n",
       "<table border=\"1\" class=\"dataframe\">\n",
       "  <thead>\n",
       "    <tr style=\"text-align: right;\">\n",
       "      <th></th>\n",
       "      <th>0</th>\n",
       "      <th>X</th>\n",
       "    </tr>\n",
       "  </thead>\n",
       "  <tbody>\n",
       "    <tr>\n",
       "      <th>0</th>\n",
       "      <td>gender</td>\n",
       "      <td>True</td>\n",
       "    </tr>\n",
       "    <tr>\n",
       "      <th>2</th>\n",
       "      <td>Partner</td>\n",
       "      <td>True</td>\n",
       "    </tr>\n",
       "    <tr>\n",
       "      <th>4</th>\n",
       "      <td>tenure</td>\n",
       "      <td>True</td>\n",
       "    </tr>\n",
       "    <tr>\n",
       "      <th>5</th>\n",
       "      <td>PhoneService</td>\n",
       "      <td>True</td>\n",
       "    </tr>\n",
       "    <tr>\n",
       "      <th>6</th>\n",
       "      <td>MultipleLines</td>\n",
       "      <td>True</td>\n",
       "    </tr>\n",
       "    <tr>\n",
       "      <th>7</th>\n",
       "      <td>InternetService</td>\n",
       "      <td>True</td>\n",
       "    </tr>\n",
       "    <tr>\n",
       "      <th>8</th>\n",
       "      <td>OnlineSecurity</td>\n",
       "      <td>True</td>\n",
       "    </tr>\n",
       "    <tr>\n",
       "      <th>9</th>\n",
       "      <td>OnlineBackup</td>\n",
       "      <td>True</td>\n",
       "    </tr>\n",
       "    <tr>\n",
       "      <th>10</th>\n",
       "      <td>DeviceProtection</td>\n",
       "      <td>True</td>\n",
       "    </tr>\n",
       "    <tr>\n",
       "      <th>11</th>\n",
       "      <td>TechSupport</td>\n",
       "      <td>True</td>\n",
       "    </tr>\n",
       "    <tr>\n",
       "      <th>12</th>\n",
       "      <td>StreamingTV</td>\n",
       "      <td>True</td>\n",
       "    </tr>\n",
       "    <tr>\n",
       "      <th>14</th>\n",
       "      <td>Contract</td>\n",
       "      <td>True</td>\n",
       "    </tr>\n",
       "    <tr>\n",
       "      <th>15</th>\n",
       "      <td>PaperlessBilling</td>\n",
       "      <td>True</td>\n",
       "    </tr>\n",
       "    <tr>\n",
       "      <th>16</th>\n",
       "      <td>PaymentMethod</td>\n",
       "      <td>True</td>\n",
       "    </tr>\n",
       "    <tr>\n",
       "      <th>17</th>\n",
       "      <td>MonthlyCharges</td>\n",
       "      <td>True</td>\n",
       "    </tr>\n",
       "    <tr>\n",
       "      <th>18</th>\n",
       "      <td>TotalCharges</td>\n",
       "      <td>True</td>\n",
       "    </tr>\n",
       "  </tbody>\n",
       "</table>\n",
       "</div>"
      ],
      "text/plain": [
       "                   0     X\n",
       "0             gender  True\n",
       "2            Partner  True\n",
       "4             tenure  True\n",
       "5       PhoneService  True\n",
       "6      MultipleLines  True\n",
       "7    InternetService  True\n",
       "8     OnlineSecurity  True\n",
       "9       OnlineBackup  True\n",
       "10  DeviceProtection  True\n",
       "11       TechSupport  True\n",
       "12       StreamingTV  True\n",
       "14          Contract  True\n",
       "15  PaperlessBilling  True\n",
       "16     PaymentMethod  True\n",
       "17    MonthlyCharges  True\n",
       "18      TotalCharges  True"
      ]
     },
     "execution_count": 38,
     "metadata": {
      "tags": []
     },
     "output_type": "execute_result"
    }
   ],
   "source": [
    "#Análise das variáveis que o modelo levou em consideração\n",
    "df2 = pd.DataFrame(rfecv.support_)\n",
    "df3 = pd.DataFrame(X.columns)\n",
    "df3['X'] = df2\n",
    "df3[df3['X'] == True]"
   ]
  },
  {
   "cell_type": "markdown",
   "metadata": {
    "id": "mPoxPNGnWoNp"
   },
   "source": [
    "### XG Boost"
   ]
  },
  {
   "cell_type": "code",
   "execution_count": 39,
   "metadata": {
    "colab": {
     "base_uri": "https://localhost:8080/",
     "height": 358
    },
    "executionInfo": {
     "elapsed": 37820,
     "status": "ok",
     "timestamp": 1601597938681,
     "user": {
      "displayName": "Andre Silva",
      "photoUrl": "",
      "userId": "16108664930684528224"
     },
     "user_tz": 180
    },
    "id": "0nbGwchzWoNq",
    "outputId": "abd801da-247c-4dc5-b2a4-34ab31316ca4"
   },
   "outputs": [
    {
     "name": "stdout",
     "output_type": "stream",
     "text": [
      "Optimal number of features : 12\n"
     ]
    },
    {
     "data": {
      "image/png": "[encoded data removed]",
      "text/plain": [
       "<Figure size 432x288 with 1 Axes>"
      ]
     },
     "metadata": {
      "needs_background": "light",
      "tags": []
     },
     "output_type": "display_data"
    }
   ],
   "source": [
    "#Seleção de variáveis e treinamento do modelo\n",
    "from xgboost import XGBClassifier\n",
    "\n",
    "model = XGBClassifier(random_state=seed)\n",
    "rfecv = RFECV(estimator=model, step=1, cv=StratifiedKFold(4),              \n",
    "            scoring='accuracy')\n",
    "\n",
    "rfecv.fit(X_train, y_train)\n",
    "\n",
    "print(\"Optimal number of features : %d\" % rfecv.n_features_)\n",
    "\n",
    "plt.figure()\n",
    "plt.xlabel(\"Number of features selected\")\n",
    "plt.ylabel(\"Cross validation score (nb of correct classifications)\")\n",
    "plt.plot(range(1, len(rfecv.grid_scores_) + 1), rfecv.grid_scores_)\n",
    "plt.show()"
   ]
  },
  {
   "cell_type": "code",
   "execution_count": 40,
   "metadata": {
    "colab": {
     "base_uri": "https://localhost:8080/",
     "height": 221
    },
    "executionInfo": {
     "elapsed": 37813,
     "status": "ok",
     "timestamp": 1601597938684,
     "user": {
      "displayName": "Andre Silva",
      "photoUrl": "",
      "userId": "16108664930684528224"
     },
     "user_tz": 180
    },
    "id": "XSrRN_bzWoN5",
    "outputId": "373de031-79a1-400f-cad7-63be9c4a363d"
   },
   "outputs": [
    {
     "name": "stdout",
     "output_type": "stream",
     "text": [
      "              precision    recall  f1-score   support\n",
      "\n",
      "           0       0.83      0.91      0.87      1553\n",
      "           1       0.66      0.48      0.56       557\n",
      "\n",
      "    accuracy                           0.80      2110\n",
      "   macro avg       0.75      0.70      0.71      2110\n",
      "weighted avg       0.79      0.80      0.79      2110\n",
      "\n",
      "Matriz de Confusão\n",
      "[[1416  137]\n",
      " [ 288  269]]\n"
     ]
    }
   ],
   "source": [
    "#Avaliação do modelo\n",
    "predictions = rfecv.predict(X_test)\n",
    "print(classification_report(y_test,predictions))\n",
    "print('Matriz de Confusão')\n",
    "print(confusion_matrix(y_test,predictions))"
   ]
  },
  {
   "cell_type": "code",
   "execution_count": 41,
   "metadata": {
    "colab": {
     "base_uri": "https://localhost:8080/",
     "height": 421
    },
    "executionInfo": {
     "elapsed": 37803,
     "status": "ok",
     "timestamp": 1601597938686,
     "user": {
      "displayName": "Andre Silva",
      "photoUrl": "",
      "userId": "16108664930684528224"
     },
     "user_tz": 180
    },
    "id": "ILkTNWZ5WoOP",
    "outputId": "a82280cd-0afe-4a08-d194-2aaa4dc50f76"
   },
   "outputs": [
    {
     "data": {
      "text/html": [
       "<div>\n",
       "<style scoped>\n",
       "    .dataframe tbody tr th:only-of-type {\n",
       "        vertical-align: middle;\n",
       "    }\n",
       "\n",
       "    .dataframe tbody tr th {\n",
       "        vertical-align: top;\n",
       "    }\n",
       "\n",
       "    .dataframe thead th {\n",
       "        text-align: right;\n",
       "    }\n",
       "</style>\n",
       "<table border=\"1\" class=\"dataframe\">\n",
       "  <thead>\n",
       "    <tr style=\"text-align: right;\">\n",
       "      <th></th>\n",
       "      <th>0</th>\n",
       "      <th>X</th>\n",
       "    </tr>\n",
       "  </thead>\n",
       "  <tbody>\n",
       "    <tr>\n",
       "      <th>4</th>\n",
       "      <td>tenure</td>\n",
       "      <td>True</td>\n",
       "    </tr>\n",
       "    <tr>\n",
       "      <th>6</th>\n",
       "      <td>MultipleLines</td>\n",
       "      <td>True</td>\n",
       "    </tr>\n",
       "    <tr>\n",
       "      <th>7</th>\n",
       "      <td>InternetService</td>\n",
       "      <td>True</td>\n",
       "    </tr>\n",
       "    <tr>\n",
       "      <th>8</th>\n",
       "      <td>OnlineSecurity</td>\n",
       "      <td>True</td>\n",
       "    </tr>\n",
       "    <tr>\n",
       "      <th>9</th>\n",
       "      <td>OnlineBackup</td>\n",
       "      <td>True</td>\n",
       "    </tr>\n",
       "    <tr>\n",
       "      <th>11</th>\n",
       "      <td>TechSupport</td>\n",
       "      <td>True</td>\n",
       "    </tr>\n",
       "    <tr>\n",
       "      <th>12</th>\n",
       "      <td>StreamingTV</td>\n",
       "      <td>True</td>\n",
       "    </tr>\n",
       "    <tr>\n",
       "      <th>13</th>\n",
       "      <td>StreamingMovies</td>\n",
       "      <td>True</td>\n",
       "    </tr>\n",
       "    <tr>\n",
       "      <th>14</th>\n",
       "      <td>Contract</td>\n",
       "      <td>True</td>\n",
       "    </tr>\n",
       "    <tr>\n",
       "      <th>15</th>\n",
       "      <td>PaperlessBilling</td>\n",
       "      <td>True</td>\n",
       "    </tr>\n",
       "    <tr>\n",
       "      <th>16</th>\n",
       "      <td>PaymentMethod</td>\n",
       "      <td>True</td>\n",
       "    </tr>\n",
       "    <tr>\n",
       "      <th>17</th>\n",
       "      <td>MonthlyCharges</td>\n",
       "      <td>True</td>\n",
       "    </tr>\n",
       "  </tbody>\n",
       "</table>\n",
       "</div>"
      ],
      "text/plain": [
       "                   0     X\n",
       "4             tenure  True\n",
       "6      MultipleLines  True\n",
       "7    InternetService  True\n",
       "8     OnlineSecurity  True\n",
       "9       OnlineBackup  True\n",
       "11       TechSupport  True\n",
       "12       StreamingTV  True\n",
       "13   StreamingMovies  True\n",
       "14          Contract  True\n",
       "15  PaperlessBilling  True\n",
       "16     PaymentMethod  True\n",
       "17    MonthlyCharges  True"
      ]
     },
     "execution_count": 41,
     "metadata": {
      "tags": []
     },
     "output_type": "execute_result"
    }
   ],
   "source": [
    "#Análise das variáveis que o modelo levou em consideração\n",
    "df1 = pd.DataFrame(rfecv.support_)\n",
    "df4 = pd.DataFrame(X.columns)\n",
    "df4['X'] = df1\n",
    "df4[df4['X'] == True]"
   ]
  },
  {
   "cell_type": "code",
   "execution_count": 41,
   "metadata": {
    "executionInfo": {
     "elapsed": 37794,
     "status": "ok",
     "timestamp": 1601597938688,
     "user": {
      "displayName": "Andre Silva",
      "photoUrl": "",
      "userId": "16108664930684528224"
     },
     "user_tz": 180
    },
    "id": "62dwe5oLWoOT"
   },
   "outputs": [],
   "source": []
  }
 ],
 "metadata": {
  "colab": {
   "collapsed_sections": [],
   "name": "Trabalho_Final_v3.ipynb",
   "provenance": []
  },
  "kernelspec": {
   "display_name": "Python 3",
   "language": "python",
   "name": "python3"
  },
  "language_info": {
   "codemirror_mode": {
    "name": "ipython",
    "version": 3
   },
   "file_extension": ".py",
   "mimetype": "text/x-python",
   "name": "python",
   "nbconvert_exporter": "python",
   "pygments_lexer": "ipython3",
   "version": "3.8.3"
  }
 },
 "nbformat": 4,
 "nbformat_minor": 1
}
